{
 "cells": [
  {
   "cell_type": "markdown",
   "id": "1ede6f35-0ad1-48fa-b895-39740924aba1",
   "metadata": {},
   "source": [
    "## DenseNet-121"
   ]
  },
  {
   "cell_type": "code",
   "execution_count": 2,
   "id": "a430c706-1f9d-4268-883f-ea7565e82905",
   "metadata": {},
   "outputs": [],
   "source": [
    "import numpy as np\n",
    "import pickle\n",
    "import os\n",
    "import tensorflow as tf\n",
    "from tensorflow.keras.utils import to_categorical\n",
    "from tensorflow.keras.applications.densenet import preprocess_input"
   ]
  },
  {
   "cell_type": "code",
   "execution_count": 3,
   "id": "d626bd73-4ece-4d55-b140-103c160c8491",
   "metadata": {},
   "outputs": [],
   "source": [
    "# Path to your local CIFAR-100 folder\n",
    "base_path = 'cifar-100-python'\n",
    "\n",
    "# Helper function to load CIFAR-100 batch (train/test)\n",
    "def load_cifar100_batch(file_name):\n",
    "    with open(os.path.join(base_path, file_name), 'rb') as file:\n",
    "        data = pickle.load(file, encoding='latin1')\n",
    "    return data['data'], data['fine_labels']"
   ]
  },
  {
   "cell_type": "code",
   "execution_count": 4,
   "id": "c9194bb0-faa7-4f76-9e4d-baec44967cae",
   "metadata": {},
   "outputs": [],
   "source": [
    "# Load the train and test data\n",
    "x_train, y_train = load_cifar100_batch('train')\n",
    "x_test, y_test = load_cifar100_batch('test')"
   ]
  },
  {
   "cell_type": "code",
   "execution_count": 5,
   "id": "561ff78c-a05f-4584-ba45-d845f44b5711",
   "metadata": {},
   "outputs": [],
   "source": [
    "# Reshape and transpose data (N, 32, 32, 3)\n",
    "x_train = x_train.reshape(-1, 3, 32, 32).transpose(0, 2, 3, 1)\n",
    "x_test = x_test.reshape(-1, 3, 32, 32).transpose(0, 2, 3, 1)"
   ]
  },
  {
   "cell_type": "code",
   "execution_count": 6,
   "id": "6eff629d-2903-4cfa-bf21-38bb2c5017c9",
   "metadata": {},
   "outputs": [],
   "source": [
    "# Convert labels to one-hot encoding\n",
    "y_train = to_categorical(y_train, 100)\n",
    "y_test = to_categorical(y_test, 100)"
   ]
  },
  {
   "cell_type": "code",
   "execution_count": 7,
   "id": "f964b424-360d-49de-a049-7d40a0c4cf6f",
   "metadata": {},
   "outputs": [],
   "source": [
    "def preprocess_image(image, label):\n",
    "    image = tf.image.resize(image, [224, 224])\n",
    "    image = preprocess_input(image)\n",
    "    return image, label\n",
    "\n",
    "# Convert data to TensorFlow datasets first (no resize yet)\n",
    "train_dataset = tf.data.Dataset.from_tensor_slices((x_train, y_train))\n",
    "test_dataset = tf.data.Dataset.from_tensor_slices((x_test, y_test))\n",
    "\n",
    "# Apply resizing and preprocessing lazily\n",
    "batch_size = 128\n",
    "train_dataset = train_dataset.map(preprocess_image).shuffle(50000).batch(batch_size).prefetch(tf.data.AUTOTUNE)\n",
    "test_dataset = test_dataset.map(preprocess_image).batch(batch_size).prefetch(tf.data.AUTOTUNE)\n"
   ]
  },
  {
   "cell_type": "code",
   "execution_count": 8,
   "id": "5094aec9-6ba6-4f98-8169-92181fb3c789",
   "metadata": {},
   "outputs": [
    {
     "name": "stdout",
     "output_type": "stream",
     "text": [
      "✅ Loaded CIFAR-100 and ready for DenseNet121 training!\n"
     ]
    }
   ],
   "source": [
    "print(\"✅ Loaded CIFAR-100 and ready for DenseNet121 training!\")\n"
   ]
  },
  {
   "cell_type": "code",
   "execution_count": 9,
   "id": "01090038-6a5f-420b-91bd-b4104aa7a4cd",
   "metadata": {},
   "outputs": [
    {
     "name": "stdout",
     "output_type": "stream",
     "text": [
      "Total labels: 100\n",
      "0: apple\n",
      "1: aquarium_fish\n",
      "2: baby\n",
      "3: bear\n",
      "4: beaver\n",
      "5: bed\n",
      "6: bee\n",
      "7: beetle\n",
      "8: bicycle\n",
      "9: bottle\n",
      "10: bowl\n",
      "11: boy\n",
      "12: bridge\n",
      "13: bus\n",
      "14: butterfly\n",
      "15: camel\n",
      "16: can\n",
      "17: castle\n",
      "18: caterpillar\n",
      "19: cattle\n",
      "20: chair\n",
      "21: chimpanzee\n",
      "22: clock\n",
      "23: cloud\n",
      "24: cockroach\n",
      "25: couch\n",
      "26: crab\n",
      "27: crocodile\n",
      "28: cup\n",
      "29: dinosaur\n",
      "30: dolphin\n",
      "31: elephant\n",
      "32: flatfish\n",
      "33: forest\n",
      "34: fox\n",
      "35: girl\n",
      "36: hamster\n",
      "37: house\n",
      "38: kangaroo\n",
      "39: keyboard\n",
      "40: lamp\n",
      "41: lawn_mower\n",
      "42: leopard\n",
      "43: lion\n",
      "44: lizard\n",
      "45: lobster\n",
      "46: man\n",
      "47: maple_tree\n",
      "48: motorcycle\n",
      "49: mountain\n",
      "50: mouse\n",
      "51: mushroom\n",
      "52: oak_tree\n",
      "53: orange\n",
      "54: orchid\n",
      "55: otter\n",
      "56: palm_tree\n",
      "57: pear\n",
      "58: pickup_truck\n",
      "59: pine_tree\n",
      "60: plain\n",
      "61: plate\n",
      "62: poppy\n",
      "63: porcupine\n",
      "64: possum\n",
      "65: rabbit\n",
      "66: raccoon\n",
      "67: ray\n",
      "68: road\n",
      "69: rocket\n",
      "70: rose\n",
      "71: sea\n",
      "72: seal\n",
      "73: shark\n",
      "74: shrew\n",
      "75: skunk\n",
      "76: skyscraper\n",
      "77: snail\n",
      "78: snake\n",
      "79: spider\n",
      "80: squirrel\n",
      "81: streetcar\n",
      "82: sunflower\n",
      "83: sweet_pepper\n",
      "84: table\n",
      "85: tank\n",
      "86: telephone\n",
      "87: television\n",
      "88: tiger\n",
      "89: tractor\n",
      "90: train\n",
      "91: trout\n",
      "92: tulip\n",
      "93: turtle\n",
      "94: wardrobe\n",
      "95: whale\n",
      "96: willow_tree\n",
      "97: wolf\n",
      "98: woman\n",
      "99: worm\n"
     ]
    }
   ],
   "source": [
    "import pickle\n",
    "import os\n",
    "\n",
    "# Path to your local CIFAR-100 folder\n",
    "base_path = 'cifar-100-python'  \n",
    "\n",
    "# Helper function to load CIFAR-100 meta file (for fine labels)\n",
    "def load_cifar100_meta():\n",
    "    with open(os.path.join(base_path, 'meta'), 'rb') as file:\n",
    "        meta = pickle.load(file, encoding='latin1')\n",
    "    return meta['fine_label_names']\n",
    "\n",
    "# Load the fine label names\n",
    "fine_labels = load_cifar100_meta()\n",
    "\n",
    "# Print all fine labels (categories)\n",
    "print(f\"Total labels: {len(fine_labels)}\")\n",
    "for i, label in enumerate(fine_labels):\n",
    "    print(f\"{i}: {label}\")\n"
   ]
  },
  {
   "cell_type": "code",
   "execution_count": 10,
   "id": "42b1bfa8-fe30-47c5-b8e7-39169a6b0a05",
   "metadata": {},
   "outputs": [
    {
     "data": {
      "text/html": [
       "<pre style=\"white-space:pre;overflow-x:auto;line-height:normal;font-family:Menlo,'DejaVu Sans Mono',consolas,'Courier New',monospace\"><span style=\"font-weight: bold\">Model: \"sequential\"</span>\n",
       "</pre>\n"
      ],
      "text/plain": [
       "\u001b[1mModel: \"sequential\"\u001b[0m\n"
      ]
     },
     "metadata": {},
     "output_type": "display_data"
    },
    {
     "data": {
      "text/html": [
       "<pre style=\"white-space:pre;overflow-x:auto;line-height:normal;font-family:Menlo,'DejaVu Sans Mono',consolas,'Courier New',monospace\">┏━━━━━━━━━━━━━━━━━━━━━━━━━━━━━━━━━┳━━━━━━━━━━━━━━━━━━━━━━━━┳━━━━━━━━━━━━━━━┓\n",
       "┃<span style=\"font-weight: bold\"> Layer (type)                    </span>┃<span style=\"font-weight: bold\"> Output Shape           </span>┃<span style=\"font-weight: bold\">       Param # </span>┃\n",
       "┡━━━━━━━━━━━━━━━━━━━━━━━━━━━━━━━━━╇━━━━━━━━━━━━━━━━━━━━━━━━╇━━━━━━━━━━━━━━━┩\n",
       "│ densenet121 (<span style=\"color: #0087ff; text-decoration-color: #0087ff\">Functional</span>)        │ (<span style=\"color: #00d7ff; text-decoration-color: #00d7ff\">None</span>, <span style=\"color: #00af00; text-decoration-color: #00af00\">1024</span>)           │     <span style=\"color: #00af00; text-decoration-color: #00af00\">7,037,504</span> │\n",
       "├─────────────────────────────────┼────────────────────────┼───────────────┤\n",
       "│ flatten (<span style=\"color: #0087ff; text-decoration-color: #0087ff\">Flatten</span>)               │ (<span style=\"color: #00d7ff; text-decoration-color: #00d7ff\">None</span>, <span style=\"color: #00af00; text-decoration-color: #00af00\">1024</span>)           │             <span style=\"color: #00af00; text-decoration-color: #00af00\">0</span> │\n",
       "├─────────────────────────────────┼────────────────────────┼───────────────┤\n",
       "│ dense (<span style=\"color: #0087ff; text-decoration-color: #0087ff\">Dense</span>)                   │ (<span style=\"color: #00d7ff; text-decoration-color: #00d7ff\">None</span>, <span style=\"color: #00af00; text-decoration-color: #00af00\">512</span>)            │       <span style=\"color: #00af00; text-decoration-color: #00af00\">524,800</span> │\n",
       "├─────────────────────────────────┼────────────────────────┼───────────────┤\n",
       "│ dense_1 (<span style=\"color: #0087ff; text-decoration-color: #0087ff\">Dense</span>)                 │ (<span style=\"color: #00d7ff; text-decoration-color: #00d7ff\">None</span>, <span style=\"color: #00af00; text-decoration-color: #00af00\">100</span>)            │        <span style=\"color: #00af00; text-decoration-color: #00af00\">51,300</span> │\n",
       "└─────────────────────────────────┴────────────────────────┴───────────────┘\n",
       "</pre>\n"
      ],
      "text/plain": [
       "┏━━━━━━━━━━━━━━━━━━━━━━━━━━━━━━━━━┳━━━━━━━━━━━━━━━━━━━━━━━━┳━━━━━━━━━━━━━━━┓\n",
       "┃\u001b[1m \u001b[0m\u001b[1mLayer (type)                   \u001b[0m\u001b[1m \u001b[0m┃\u001b[1m \u001b[0m\u001b[1mOutput Shape          \u001b[0m\u001b[1m \u001b[0m┃\u001b[1m \u001b[0m\u001b[1m      Param #\u001b[0m\u001b[1m \u001b[0m┃\n",
       "┡━━━━━━━━━━━━━━━━━━━━━━━━━━━━━━━━━╇━━━━━━━━━━━━━━━━━━━━━━━━╇━━━━━━━━━━━━━━━┩\n",
       "│ densenet121 (\u001b[38;5;33mFunctional\u001b[0m)        │ (\u001b[38;5;45mNone\u001b[0m, \u001b[38;5;34m1024\u001b[0m)           │     \u001b[38;5;34m7,037,504\u001b[0m │\n",
       "├─────────────────────────────────┼────────────────────────┼───────────────┤\n",
       "│ flatten (\u001b[38;5;33mFlatten\u001b[0m)               │ (\u001b[38;5;45mNone\u001b[0m, \u001b[38;5;34m1024\u001b[0m)           │             \u001b[38;5;34m0\u001b[0m │\n",
       "├─────────────────────────────────┼────────────────────────┼───────────────┤\n",
       "│ dense (\u001b[38;5;33mDense\u001b[0m)                   │ (\u001b[38;5;45mNone\u001b[0m, \u001b[38;5;34m512\u001b[0m)            │       \u001b[38;5;34m524,800\u001b[0m │\n",
       "├─────────────────────────────────┼────────────────────────┼───────────────┤\n",
       "│ dense_1 (\u001b[38;5;33mDense\u001b[0m)                 │ (\u001b[38;5;45mNone\u001b[0m, \u001b[38;5;34m100\u001b[0m)            │        \u001b[38;5;34m51,300\u001b[0m │\n",
       "└─────────────────────────────────┴────────────────────────┴───────────────┘\n"
      ]
     },
     "metadata": {},
     "output_type": "display_data"
    },
    {
     "data": {
      "text/html": [
       "<pre style=\"white-space:pre;overflow-x:auto;line-height:normal;font-family:Menlo,'DejaVu Sans Mono',consolas,'Courier New',monospace\"><span style=\"font-weight: bold\"> Total params: </span><span style=\"color: #00af00; text-decoration-color: #00af00\">7,613,604</span> (29.04 MB)\n",
       "</pre>\n"
      ],
      "text/plain": [
       "\u001b[1m Total params: \u001b[0m\u001b[38;5;34m7,613,604\u001b[0m (29.04 MB)\n"
      ]
     },
     "metadata": {},
     "output_type": "display_data"
    },
    {
     "data": {
      "text/html": [
       "<pre style=\"white-space:pre;overflow-x:auto;line-height:normal;font-family:Menlo,'DejaVu Sans Mono',consolas,'Courier New',monospace\"><span style=\"font-weight: bold\"> Trainable params: </span><span style=\"color: #00af00; text-decoration-color: #00af00\">576,100</span> (2.20 MB)\n",
       "</pre>\n"
      ],
      "text/plain": [
       "\u001b[1m Trainable params: \u001b[0m\u001b[38;5;34m576,100\u001b[0m (2.20 MB)\n"
      ]
     },
     "metadata": {},
     "output_type": "display_data"
    },
    {
     "data": {
      "text/html": [
       "<pre style=\"white-space:pre;overflow-x:auto;line-height:normal;font-family:Menlo,'DejaVu Sans Mono',consolas,'Courier New',monospace\"><span style=\"font-weight: bold\"> Non-trainable params: </span><span style=\"color: #00af00; text-decoration-color: #00af00\">7,037,504</span> (26.85 MB)\n",
       "</pre>\n"
      ],
      "text/plain": [
       "\u001b[1m Non-trainable params: \u001b[0m\u001b[38;5;34m7,037,504\u001b[0m (26.85 MB)\n"
      ]
     },
     "metadata": {},
     "output_type": "display_data"
    }
   ],
   "source": [
    "import tensorflow as tf\n",
    "from tensorflow.keras.models import Sequential\n",
    "from tensorflow.keras.layers import Flatten, Dense\n",
    "from tensorflow.keras.applications.densenet import DenseNet121\n",
    "\n",
    "# Build the DenseNet121 model\n",
    "densenet_model = Sequential()\n",
    "\n",
    "# Load DenseNet121 pre-trained model\n",
    "pretrained_model = DenseNet121(\n",
    "    include_top=False,\n",
    "    input_shape=(224, 224, 3),  # Note: DenseNet121 expects 224x224 images\n",
    "    pooling='avg',\n",
    "    weights='imagenet'\n",
    ")\n",
    "\n",
    "# Freeze the layers of DenseNet121 to prevent training\n",
    "for layer in pretrained_model.layers:\n",
    "    layer.trainable = False\n",
    "\n",
    "# Add the pre-trained model to the custom model\n",
    "densenet_model.add(pretrained_model)\n",
    "densenet_model.add(Flatten())\n",
    "densenet_model.add(Dense(512, activation='relu'))\n",
    "densenet_model.add(Dense(100, activation='softmax'))  # CIFAR-100 has 100 classes\n",
    "\n",
    "# Compile the model\n",
    "densenet_model.compile(optimizer='adam', loss='categorical_crossentropy', metrics=['accuracy'])\n",
    "\n",
    "# Summary of the model\n",
    "densenet_model.summary()\n"
   ]
  },
  {
   "cell_type": "code",
   "execution_count": 11,
   "id": "2e368534-2e58-4ac6-9e83-c8cb628f2f28",
   "metadata": {},
   "outputs": [
    {
     "name": "stdout",
     "output_type": "stream",
     "text": [
      "Epoch 1/5\n"
     ]
    },
    {
     "name": "stderr",
     "output_type": "stream",
     "text": [
      "2025-04-23 12:48:20.988283: I tensorflow/core/kernels/data/shuffle_dataset_op.cc:450] ShuffleDatasetV3:3: Filling up shuffle buffer (this may take a while): 21412 of 50000\n",
      "2025-04-23 12:48:31.044005: I tensorflow/core/kernels/data/shuffle_dataset_op.cc:450] ShuffleDatasetV3:3: Filling up shuffle buffer (this may take a while): 34161 of 50000\n",
      "2025-04-23 12:48:43.360130: I tensorflow/core/kernels/data/shuffle_dataset_op.cc:480] Shuffle buffer filled.\n"
     ]
    },
    {
     "name": "stdout",
     "output_type": "stream",
     "text": [
      "\u001b[1m391/391\u001b[0m \u001b[32m━━━━━━━━━━━━━━━━━━━━\u001b[0m\u001b[37m\u001b[0m \u001b[1m2228s\u001b[0m 6s/step - accuracy: 0.4509 - loss: 2.2404 - val_accuracy: 0.6490 - val_loss: 1.1874\n",
      "Epoch 2/5\n"
     ]
    },
    {
     "name": "stderr",
     "output_type": "stream",
     "text": [
      "2025-04-23 13:25:25.990373: I tensorflow/core/kernels/data/shuffle_dataset_op.cc:450] ShuffleDatasetV3:3: Filling up shuffle buffer (this may take a while): 21470 of 50000\n",
      "2025-04-23 13:25:36.038669: I tensorflow/core/kernels/data/shuffle_dataset_op.cc:450] ShuffleDatasetV3:3: Filling up shuffle buffer (this may take a while): 35287 of 50000\n",
      "2025-04-23 13:25:46.105127: I tensorflow/core/kernels/data/shuffle_dataset_op.cc:450] ShuffleDatasetV3:3: Filling up shuffle buffer (this may take a while): 48993 of 50000\n",
      "2025-04-23 13:25:46.553487: I tensorflow/core/kernels/data/shuffle_dataset_op.cc:480] Shuffle buffer filled.\n"
     ]
    },
    {
     "name": "stdout",
     "output_type": "stream",
     "text": [
      "\u001b[1m391/391\u001b[0m \u001b[32m━━━━━━━━━━━━━━━━━━━━\u001b[0m\u001b[37m\u001b[0m \u001b[1m2149s\u001b[0m 5s/step - accuracy: 0.6948 - loss: 1.0437 - val_accuracy: 0.6731 - val_loss: 1.1069\n",
      "Epoch 3/5\n"
     ]
    },
    {
     "name": "stderr",
     "output_type": "stream",
     "text": [
      "2025-04-23 14:01:15.569938: I tensorflow/core/kernels/data/shuffle_dataset_op.cc:450] ShuffleDatasetV3:3: Filling up shuffle buffer (this may take a while): 19815 of 50000\n",
      "2025-04-23 14:01:33.306623: I tensorflow/core/kernels/data/shuffle_dataset_op.cc:480] Shuffle buffer filled.\n"
     ]
    },
    {
     "name": "stdout",
     "output_type": "stream",
     "text": [
      "\u001b[1m391/391\u001b[0m \u001b[32m━━━━━━━━━━━━━━━━━━━━\u001b[0m\u001b[37m\u001b[0m \u001b[1m2001s\u001b[0m 5s/step - accuracy: 0.7378 - loss: 0.8819 - val_accuracy: 0.6847 - val_loss: 1.0755\n",
      "Epoch 4/5\n"
     ]
    },
    {
     "name": "stderr",
     "output_type": "stream",
     "text": [
      "2025-04-23 14:34:36.190897: I tensorflow/core/kernels/data/shuffle_dataset_op.cc:450] ShuffleDatasetV3:3: Filling up shuffle buffer (this may take a while): 18308 of 50000\n",
      "2025-04-23 14:34:46.268490: I tensorflow/core/kernels/data/shuffle_dataset_op.cc:450] ShuffleDatasetV3:3: Filling up shuffle buffer (this may take a while): 31761 of 50000\n",
      "2025-04-23 14:34:57.487204: I tensorflow/core/kernels/data/shuffle_dataset_op.cc:480] Shuffle buffer filled.\n"
     ]
    },
    {
     "name": "stdout",
     "output_type": "stream",
     "text": [
      "\u001b[1m391/391\u001b[0m \u001b[32m━━━━━━━━━━━━━━━━━━━━\u001b[0m\u001b[37m\u001b[0m \u001b[1m2060s\u001b[0m 5s/step - accuracy: 0.7631 - loss: 0.7872 - val_accuracy: 0.6945 - val_loss: 1.0575\n",
      "Epoch 5/5\n"
     ]
    },
    {
     "name": "stderr",
     "output_type": "stream",
     "text": [
      "2025-04-23 15:08:56.598444: I tensorflow/core/kernels/data/shuffle_dataset_op.cc:450] ShuffleDatasetV3:3: Filling up shuffle buffer (this may take a while): 19313 of 50000\n",
      "2025-04-23 15:09:16.359243: I tensorflow/core/kernels/data/shuffle_dataset_op.cc:450] ShuffleDatasetV3:3: Filling up shuffle buffer (this may take a while): 49363 of 50000\n",
      "2025-04-23 15:09:16.703229: I tensorflow/core/kernels/data/shuffle_dataset_op.cc:480] Shuffle buffer filled.\n"
     ]
    },
    {
     "name": "stdout",
     "output_type": "stream",
     "text": [
      "\u001b[1m391/391\u001b[0m \u001b[32m━━━━━━━━━━━━━━━━━━━━\u001b[0m\u001b[37m\u001b[0m \u001b[1m2144s\u001b[0m 5s/step - accuracy: 0.7829 - loss: 0.7185 - val_accuracy: 0.6967 - val_loss: 1.0541\n"
     ]
    }
   ],
   "source": [
    "epochs=5\n",
    "history = densenet_model.fit(\n",
    "  train_dataset,\n",
    "  validation_data=test_dataset,\n",
    "  epochs=epochs\n",
    ")"
   ]
  },
  {
   "cell_type": "code",
   "execution_count": 25,
   "id": "cdcaa50e-af97-4d25-86fb-d7fa0a7bb0a0",
   "metadata": {},
   "outputs": [],
   "source": [
    "densenet_model.save('densenet_cifar100_model.keras')\n"
   ]
  },
  {
   "cell_type": "code",
   "execution_count": 27,
   "id": "42bd564c-1027-4f25-983c-7dce3d740586",
   "metadata": {},
   "outputs": [],
   "source": [
    "# Load the saved model\n",
    "loaded_model = tf.keras.models.load_model('densenet_cifar100_model.keras')\n",
    "\n"
   ]
  },
  {
   "cell_type": "code",
   "execution_count": 29,
   "id": "5db1c397-69e9-43cc-8930-f16d4507b7ba",
   "metadata": {},
   "outputs": [],
   "source": [
    "import matplotlib.pyplot as plt"
   ]
  },
  {
   "cell_type": "code",
   "execution_count": 31,
   "id": "93896021-4205-4742-9d7b-0ff4e63ceace",
   "metadata": {},
   "outputs": [
    {
     "data": {
      "image/png": "[encoded data removed]",
      "text/plain": [
       "<Figure size 640x480 with 1 Axes>"
      ]
     },
     "metadata": {},
     "output_type": "display_data"
    }
   ],
   "source": [
    "#Evaluating The Model\n",
    "fig1 = plt.gcf()\n",
    "plt.plot(history.history['accuracy'])\n",
    "plt.plot(history.history['val_accuracy'])\n",
    "plt.axis(ymin=0.1,ymax=1)\n",
    "plt.grid()\n",
    "plt.title('Model Accuracy')\n",
    "plt.ylabel('Accuracy')\n",
    "plt.xlabel('Epochs')\n",
    "plt.legend(['train', 'validation'])\n",
    "plt.show()"
   ]
  },
  {
   "cell_type": "code",
   "execution_count": 33,
   "id": "646d4ea3-a0c0-4746-b601-9b4c6581e15a",
   "metadata": {},
   "outputs": [
    {
     "data": {
      "image/png": "[encoded data removed]",
      "text/plain": [
       "<Figure size 640x480 with 1 Axes>"
      ]
     },
     "metadata": {},
     "output_type": "display_data"
    }
   ],
   "source": [
    "plt.plot(history.history['loss'])\n",
    "plt.plot(history.history['val_loss'])\n",
    "plt.grid()\n",
    "plt.title('Model Loss')\n",
    "plt.ylabel('Loss')\n",
    "plt.xlabel('Epochs')\n",
    "plt.legend(['train', 'validation'])\n",
    "plt.show()"
   ]
  },
  {
   "cell_type": "code",
   "execution_count": null,
   "id": "7aaf299f-673f-498a-933c-221b55144bba",
   "metadata": {},
   "outputs": [],
   "source": []
  }
 ],
 "metadata": {
  "kernelspec": {
   "display_name": "Python 3 (ipykernel)",
   "language": "python",
   "name": "python3"
  },
  "language_info": {
   "codemirror_mode": {
    "name": "ipython",
    "version": 3
   },
   "file_extension": ".py",
   "mimetype": "text/x-python",
   "name": "python",
   "nbconvert_exporter": "python",
   "pygments_lexer": "ipython3",
   "version": "3.12.4"
  }
 },
 "nbformat": 4,
 "nbformat_minor": 5
}
